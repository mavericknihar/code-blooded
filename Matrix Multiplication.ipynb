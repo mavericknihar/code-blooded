{
  "nbformat": 4,
  "nbformat_minor": 0,
  "metadata": {
    "colab": {
      "provenance": [],
      "authorship_tag": "ABX9TyOOYc2iHDj9Qf1mxC+G9g8E",
      "include_colab_link": true
    },
    "kernelspec": {
      "name": "python3",
      "display_name": "Python 3"
    },
    "language_info": {
      "name": "python"
    }
  },
  "cells": [
    {
      "cell_type": "markdown",
      "metadata": {
        "id": "view-in-github",
        "colab_type": "text"
      },
      "source": [
        "<a href=\"https://colab.research.google.com/github/mavericknihar/code-blooded/blob/mavericknihar-patch-21/Matrix%20Multiplication.ipynb\" target=\"_parent\"><img src=\"https://colab.research.google.com/assets/colab-badge.svg\" alt=\"Open In Colab\"/></a>"
      ]
    },
    {
      "cell_type": "code",
      "execution_count": 4,
      "metadata": {
        "colab": {
          "base_uri": "https://localhost:8080/"
        },
        "id": "YXVvjyX5oPpW",
        "outputId": "03c02457-43b3-450b-fd71-dd6c8f8a01a7"
      },
      "outputs": [
        {
          "output_type": "stream",
          "name": "stdout",
          "text": [
            "[ 10 -24]\n"
          ]
        }
      ],
      "source": [
        "import  numpy as np\n",
        "a = np.array([0,4,6])\n",
        "b = np.array([[1,1],[4,9],[-1,-10]])\n",
        "print(np.dot(a,b))"
      ]
    },
    {
      "cell_type": "code",
      "source": [
        "#Program to multiply two matrices using Nested Loops\n",
        "X = [[3,3,2],\n",
        "     [4,1,5],\n",
        "     [7,2,7]]\n",
        "\n",
        "Y = [[5,3,1,2],\n",
        "     [1,7,3,0],\n",
        "     [2,5,2,1]]\n",
        "\n",
        "MUL = [[0,0,0,0],\n",
        "        [0,0,0,0],\n",
        "        [0,0,0,0]]\n",
        "\n",
        "print(\"Multiplication of the tow matrices is ; \")\n",
        "for i in range(len(X)):\n",
        "    for j in range(len(Y[0])):\n",
        "        for k in range(len(Y)):\\\n",
        "        MUL[i][j] += X[i][k] * Y[k][j]\n",
        "\n",
        "for r in MUL:\n",
        "    print(r)"
      ],
      "metadata": {
        "colab": {
          "base_uri": "https://localhost:8080/"
        },
        "id": "xmx6WmhdpW1d",
        "outputId": "e288188a-ce85-417b-cf27-de2e49baded3"
      },
      "execution_count": 6,
      "outputs": [
        {
          "output_type": "stream",
          "name": "stdout",
          "text": [
            "Multiplication of the tow matrices is ; \n",
            "[22, 40, 16, 8]\n",
            "[31, 44, 17, 13]\n",
            "[51, 70, 27, 21]\n"
          ]
        }
      ]
    }
  ]
}